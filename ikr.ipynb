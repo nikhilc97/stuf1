def nim(j):
    neg=1
    ten=1
    jr=0
    
##    if j[0]=='-':
##        neg=-1
##        
    for i in range(len(j)):
        if j[i]=='-':
            neg=-1
            print("negetive found")
            continue
        jr=jr*10+int(j[i])
    return jr*neg


y=['-', '1', '2']

def nim2():
    k=110.35
    print(k)
    kc='-110.35'
    print(kc)
    print(float(kc),float(kc)==k)
    num=[]
    for ki in kc:
        num.append(ki)
    print(num)
    kcc=''.join(num)
    fkcc=float(kcc)
    print(kcc,fkcc-1)

def uf():
    k=[0.001, 0.005, 0.01, 0.05, 0.1, 0.5, 1, 5, 10]
    print(k)
    print(k[1])

def abf():
    k=0.4
    kl=-0.4
    print(abs(k),abs(kl))
print(abf())
